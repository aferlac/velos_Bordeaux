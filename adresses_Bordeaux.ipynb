{
 "cells": [
  {
   "cell_type": "code",
   "execution_count": 30,
   "id": "451d31c6",
   "metadata": {},
   "outputs": [],
   "source": [
    "import pandas as pd\n",
    "import numpy as np\n",
    "import re"
   ]
  },
  {
   "cell_type": "code",
   "execution_count": 31,
   "id": "d03d9aee",
   "metadata": {},
   "outputs": [],
   "source": [
    "dfadresse = pd.read_csv('adresses_bordeaux.csv', sep=';')\n",
    "lat, long = [], []\n",
    "for i in range(len(dfadresse)):\n",
    "    lat.append(float(re.split(',', dfadresse['Geo Point'][i])[0]))\n",
    "    long.append(float(re.split(',', dfadresse['Geo Point'][i])[1]))\n",
    "dfadresse['Lat'] = lat\n",
    "dfadresse['Long'] = long\n",
    "col_suppr = ['Geo Point', 'Geo Shape', 'gid',\n",
    "             'geom_o', 'geom_err', 'cinsee',\n",
    "             'cpostal', 'fantoir', 'cdate',\n",
    "             'mdate', 'rep']\n",
    "dfadresse.drop(col_suppr, axis=1, inplace=True)\n",
    "voie = []\n",
    "for i in range(len(dfadresse)):\n",
    "    voie.append(re.split(' ', dfadresse['nom_voie'][i])[0])\n",
    "dfadresse['Voie'] = voie\n",
    "dfadresse['numero'].fillna(0,inplace=True)\n",
    "dfadresse['numero'] = dfadresse['numero'].astype('int')\n",
    "dfadresse.to_csv('adresses_BOD.csv')"
   ]
  },
  {
   "cell_type": "code",
   "execution_count": null,
   "id": "224323b4",
   "metadata": {},
   "outputs": [],
   "source": []
  }
 ],
 "metadata": {
  "kernelspec": {
   "display_name": "Python 3",
   "language": "python",
   "name": "python3"
  },
  "language_info": {
   "codemirror_mode": {
    "name": "ipython",
    "version": 3
   },
   "file_extension": ".py",
   "mimetype": "text/x-python",
   "name": "python",
   "nbconvert_exporter": "python",
   "pygments_lexer": "ipython3",
   "version": "3.8.8"
  }
 },
 "nbformat": 4,
 "nbformat_minor": 5
}
